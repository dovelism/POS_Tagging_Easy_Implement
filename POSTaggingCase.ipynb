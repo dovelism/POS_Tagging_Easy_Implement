{
 "cells": [
  {
   "cell_type": "code",
   "execution_count": 14,
   "metadata": {},
   "outputs": [],
   "source": [
    "tag2id,id2tag = {},{}  # maps tag to id, tag2id:{\"VB\":0 , \"NNP\":1}\n",
    "word2id,id2word = {},{}"
   ]
  },
  {
   "cell_type": "code",
   "execution_count": 15,
   "metadata": {},
   "outputs": [],
   "source": [
    "for line in open('traindata.txt'):\n",
    "    items = line.split('/')\n",
    "    word,tag = items[0],items[1].rstrip() #抽取每一行的单词和词性\n",
    "    if word not in word2id:\n",
    "        word2id[word] = len(word2id)\n",
    "        id2word[len(id2word)] = word\n",
    "    if tag not in tag2id:\n",
    "        tag2id[tag] = len(tag2id)\n",
    "        id2tag[len(id2tag)] = tag\n",
    "M = len(word2id)     # M:词典大小\n",
    "N = len(tag2id)      # N:词性的种类个数"
   ]
  },
  {
   "cell_type": "code",
   "execution_count": 16,
   "metadata": {},
   "outputs": [
    {
     "name": "stdout",
     "output_type": "stream",
     "text": [
      "18978 54\n"
     ]
    }
   ],
   "source": [
    "print(M,N)"
   ]
  },
  {
   "cell_type": "code",
   "execution_count": 17,
   "metadata": {},
   "outputs": [
    {
     "name": "stdout",
     "output_type": "stream",
     "text": [
      "{'NNP': 0, ',': 1, 'VBG': 2, 'TO': 3, 'VB': 4, 'NN': 5, 'IN': 6, 'JJ': 7, 'VBD': 8, 'NNS': 9, 'CD': 10, 'CC': 11, 'PRP': 12, 'MD': 13, 'DT': 14, '.': 15, 'VBZ': 16, 'VBN': 17, 'WDT': 18, 'VBP': 19, 'POS': 20, 'RB': 21, '$': 22, 'PRP$': 23, ':': 24, 'JJR': 25, '``': 26, \"''\": 27, 'WP': 28, 'JJS': 29, 'WRB': 30, 'RBR': 31, 'NNPS': 32, 'RP': 33, 'WP$': 34, 'EX': 35, '(': 36, ')': 37, 'PDT': 38, 'RBS': 39, 'FW': 40, 'UH': 41, 'SYM': 42, 'LS': 43, '#': 44, 'VBG|NN': 45, 'JJ|NN': 46, 'RB|IN': 47, 'NNS|NN': 48, 'VBN|JJ': 49, 'VB|NN': 50, 'RBR|JJR': 51, 'NN|NNS': 52, 'JJ|RB': 53}\n"
     ]
    }
   ],
   "source": [
    "print(tag2id)"
   ]
  },
  {
   "cell_type": "markdown",
   "metadata": {},
   "source": [
    "构建 pi,A,B"
   ]
  },
  {
   "cell_type": "code",
   "execution_count": 18,
   "metadata": {},
   "outputs": [],
   "source": [
    "import numpy as np\n",
    "pi = np.zeros(N) # pi[i]出现在第一个位置的概率\n",
    "A = np.zeros((N,M)) # A[i][j]:给定tag i，出现单词j的概率\n",
    "B = np.zeros((N,N)) # B[i][j]:之前的状态是i，之后转成状态j的概率"
   ]
  },
  {
   "cell_type": "code",
   "execution_count": 36,
   "metadata": {},
   "outputs": [],
   "source": [
    "def log(v):\n",
    "    if v == 0:\n",
    "        return np.log(v+0.000001)\n",
    "    return np.log(v)"
   ]
  },
  {
   "cell_type": "code",
   "execution_count": 33,
   "metadata": {},
   "outputs": [],
   "source": [
    "prev_tag = \"\"\n",
    "for line in open('traindata.txt'):\n",
    "    items = line.split('/')\n",
    "    wordID,tagID = word2id[items[0]] , tag2id[items[1].rstrip()]\n",
    "    if prev_tag == \"\": # 句子开始\n",
    "        pi[tagID] +=1\n",
    "        A[tagID][wordID] +=1\n",
    "    else:  #不是句子开头\n",
    "        A[tagID][wordID] +=1\n",
    "        B[tag2id[prev_tag]][tagID] +=1\n",
    "    if items[0] == \".\":\n",
    "        prev_tag = \"\"\n",
    "    else:\n",
    "        prev_tag = items[1].rstrip()\n",
    "\n",
    "        \n",
    "# normalize\n",
    "pi = pi/sum(pi)\n",
    "for i in range(N):\n",
    "    A[i] /= sum(A[i])\n",
    "    B[i] /= sum(B[i])\n",
    "        \n",
    "        \n",
    "        "
   ]
  },
  {
   "cell_type": "code",
   "execution_count": 34,
   "metadata": {},
   "outputs": [
    {
     "name": "stdout",
     "output_type": "stream",
     "text": [
      "[1.81324111e-01 0.00000000e+00 1.00049407e-02 3.33498024e-03\n",
      " 3.95256917e-03 3.68083004e-02 1.11660079e-01 3.66847826e-02\n",
      " 6.17588933e-04 3.81669960e-02 8.76976285e-03 5.18774704e-02\n",
      " 6.02766798e-02 2.47035573e-04 2.17267787e-01 0.00000000e+00\n",
      " 1.48221344e-03 6.05237154e-03 8.64624506e-04 2.47035573e-04\n",
      " 0.00000000e+00 4.73073123e-02 0.00000000e+00 7.16403162e-03\n",
      " 1.72924901e-03 2.09980237e-03 7.53458498e-02 6.36116601e-02\n",
      " 2.59387352e-03 1.85276680e-03 5.92885375e-03 1.97628458e-03\n",
      " 2.84090909e-03 0.00000000e+00 0.00000000e+00 2.71739130e-03\n",
      " 5.92885375e-03 5.92885375e-03 9.88142292e-04 3.70553360e-04\n",
      " 1.23517787e-04 0.00000000e+00 0.00000000e+00 1.85276680e-03\n",
      " 0.00000000e+00 0.00000000e+00 0.00000000e+00 0.00000000e+00\n",
      " 0.00000000e+00 0.00000000e+00 0.00000000e+00 0.00000000e+00\n",
      " 0.00000000e+00 0.00000000e+00]\n",
      "{0: 'NNP', 1: ',', 2: 'VBG', 3: 'TO', 4: 'VB', 5: 'NN', 6: 'IN', 7: 'JJ', 8: 'VBD', 9: 'NNS', 10: 'CD', 11: 'CC', 12: 'PRP', 13: 'MD', 14: 'DT', 15: '.', 16: 'VBZ', 17: 'VBN', 18: 'WDT', 19: 'VBP', 20: 'POS', 21: 'RB', 22: '$', 23: 'PRP$', 24: ':', 25: 'JJR', 26: '``', 27: \"''\", 28: 'WP', 29: 'JJS', 30: 'WRB', 31: 'RBR', 32: 'NNPS', 33: 'RP', 34: 'WP$', 35: 'EX', 36: '(', 37: ')', 38: 'PDT', 39: 'RBS', 40: 'FW', 41: 'UH', 42: 'SYM', 43: 'LS', 44: '#', 45: 'VBG|NN', 46: 'JJ|NN', 47: 'RB|IN', 48: 'NNS|NN', 49: 'VBN|JJ', 50: 'VB|NN', 51: 'RBR|JJR', 52: 'NN|NNS', 53: 'JJ|RB'}\n"
     ]
    }
   ],
   "source": [
    "print(pi)\n",
    "print(id2tag)"
   ]
  },
  {
   "cell_type": "code",
   "execution_count": 35,
   "metadata": {},
   "outputs": [
    {
     "name": "stdout",
     "output_type": "stream",
     "text": [
      "[[0.37911634 0.14189119 0.00129039 ... 0.         0.         0.        ]\n",
      " [0.13274512 0.         0.0452067  ... 0.         0.         0.        ]\n",
      " [0.03709575 0.0142676  0.00475587 ... 0.         0.         0.        ]\n",
      " ...\n",
      " [0.         0.         0.5        ... 0.         0.         0.        ]\n",
      " [0.         0.         0.         ... 0.         0.         0.        ]\n",
      " [0.         0.         0.         ... 0.         0.         0.        ]]\n"
     ]
    }
   ],
   "source": [
    "print(B)"
   ]
  },
  {
   "cell_type": "code",
   "execution_count": 42,
   "metadata": {},
   "outputs": [],
   "source": [
    "def viterbi(x,pi,A,B):\n",
    "    \"\"\"\n",
    "    x：用户输入字符串或序列\n",
    "    pi:initial probability of tags\n",
    "    A: 给定tag，每个单词出现的概率\n",
    "    B：tag之间的转移概率\n",
    "    \"\"\"\n",
    "    x = [word2id[word]for word in x.split(\" \")]  # x:[4532,334,523,335,..]\n",
    "    T = len(x)\n",
    "    \n",
    "    dp = np.zeros((T,N)) # dp[i][j] : w1,...,wi,假设wi的tag是第j个tag\n",
    "    pointer = np.array([[0 for x in range(N)] for y in range(T)])  # T*N\n",
    "    \n",
    "    for j in range(N): #base case \n",
    "        dp[0][j] = log(pi[j]) + log(A[j][x[0]])  #第一列\n",
    "    for i in range(1,T):  #每个单词\n",
    "        for j in range(N): #每个词性\n",
    "            dp[i][j] = -99999\n",
    "            for k in range(N): #从每一个k可以到达j\n",
    "                score = dp[i-1][k] + log(B[k][j]) + log(A[j][x[i]])  #核心\n",
    "                if score > dp[i][j]:\n",
    "                    dp[i][j] = score\n",
    "                    pointer[i][j] = k\n",
    "        \n",
    "    # 把最好的tag sequence找到\n",
    "    best_seq = [0] *T  #best_seq=[1,3,5,23,4]                \n",
    "    # step1：找出对应于最后一个单词的词性     \n",
    "    best_seq[T-1] = np.argmax(dp[T-1])\n",
    "    # step2:通过从后到前的循环来依次求出每个单词的词性\n",
    "    for i in range(T-2,-1,-1):\n",
    "        best_seq[i] = pointer[i+1][best_seq[i+1]]\n",
    "    # 到目前为止，best_seq存放了对应于x的词性序列\n",
    "    \n",
    "    for i in range(len(best_seq)):\n",
    "        print(id2tag[best_seq[i]])"
   ]
  },
  {
   "cell_type": "code",
   "execution_count": 43,
   "metadata": {},
   "outputs": [
    {
     "name": "stdout",
     "output_type": "stream",
     "text": [
      "NNP\n",
      "NNP\n",
      "NN\n",
      ",\n",
      "NN\n",
      "NN\n",
      "CC\n",
      "NNS\n",
      "IN\n",
      "DT\n",
      "NNS\n",
      "VBN\n",
      "IN\n",
      "DT\n",
      "NN\n"
     ]
    }
   ],
   "source": [
    "x = \"Social Security number , passport number and details about the services provided for the payment\"\n",
    "viterbi(x, pi, A, B)"
   ]
  },
  {
   "cell_type": "code",
   "execution_count": null,
   "metadata": {},
   "outputs": [],
   "source": []
  }
 ],
 "metadata": {
  "kernelspec": {
   "display_name": "Python 3",
   "language": "python",
   "name": "python3"
  },
  "language_info": {
   "codemirror_mode": {
    "name": "ipython",
    "version": 3
   },
   "file_extension": ".py",
   "mimetype": "text/x-python",
   "name": "python",
   "nbconvert_exporter": "python",
   "pygments_lexer": "ipython3",
   "version": "3.7.6"
  },
  "toc": {
   "base_numbering": 1,
   "nav_menu": {},
   "number_sections": true,
   "sideBar": true,
   "skip_h1_title": false,
   "title_cell": "Table of Contents",
   "title_sidebar": "Contents",
   "toc_cell": false,
   "toc_position": {},
   "toc_section_display": true,
   "toc_window_display": false
  },
  "varInspector": {
   "cols": {
    "lenName": 16,
    "lenType": 16,
    "lenVar": 40
   },
   "kernels_config": {
    "python": {
     "delete_cmd_postfix": "",
     "delete_cmd_prefix": "del ",
     "library": "var_list.py",
     "varRefreshCmd": "print(var_dic_list())"
    },
    "r": {
     "delete_cmd_postfix": ") ",
     "delete_cmd_prefix": "rm(",
     "library": "var_list.r",
     "varRefreshCmd": "cat(var_dic_list()) "
    }
   },
   "types_to_exclude": [
    "module",
    "function",
    "builtin_function_or_method",
    "instance",
    "_Feature"
   ],
   "window_display": false
  }
 },
 "nbformat": 4,
 "nbformat_minor": 2
}
